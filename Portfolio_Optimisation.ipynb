{
 "cells": [
  {
   "cell_type": "code",
   "execution_count": 1,
   "id": "974506f8-3491-4238-b66e-d9328b395390",
   "metadata": {},
   "outputs": [],
   "source": [
    "import pandas as pd\n",
    "import yfinance as yf\n",
    "from datetime import datetime, timedelta\n",
    "import numpy as np\n",
    "from scipy.optimize import minimize"
   ]
  },
  {
   "cell_type": "code",
   "execution_count": 2,
   "id": "c3b9f1ed-d2e2-4054-a541-f375d0a045ed",
   "metadata": {},
   "outputs": [],
   "source": [
    "tickers_smi = [\n",
    "    'NESN.SW',  # Nestlé S.A.\n",
    "    'ROG.SW',   # Roche Holding AG\n",
    "    'NOVN.SW',  # Novartis AG\n",
    "    'CFR.SW',   # Compagnie Financière Richemont SA\n",
    "    'UBSG.SW',  # UBS Group AG\n",
    "    'ABBN.SW',  # ABB Ltd\n",
    "    'ZURN.SW',  # Zurich Insurance Group AG\n",
    "    'HOLN.SW',  # Holcim Ltd\n",
    "    'LONN.SW',  # Lonza Group AG\n",
    "    'ALC.SW',   # Alcon Inc.\n",
    "    'SREN.SW',  # Swiss Re AG\n",
    "    'SIKA.SW',  # Sika AG\n",
    "    'GIVN.SW',  # Givaudan SA\n",
    "    'PGHN.SW',  # Partners Group Holding AG\n",
    "    'KNIN.SW',  # Kuehne + Nagel International AG\n",
    "    'SCMN.SW',  # Swisscom AG\n",
    "    'SLHN.SW',  # Swiss Life Holding AG\n",
    "    'GEBN.SW',  # Geberit AG\n",
    "    'SOON.SW',  # Sonova Holding AG\n",
    "    'LOGN.SW'   # Logitech International S.A.\n",
    "]"
   ]
  },
  {
   "cell_type": "code",
   "execution_count": 3,
   "id": "f6c2a500-76a4-49b6-a6d6-92a3522e7a3c",
   "metadata": {},
   "outputs": [
    {
     "name": "stdout",
     "output_type": "stream",
     "text": [
      "2025-02-26 23:00:48.794279\n"
     ]
    }
   ],
   "source": [
    "end_date = datetime.today() - timedelta(days = 1)\n",
    "print(end_date)"
   ]
  },
  {
   "cell_type": "code",
   "execution_count": 61,
   "id": "2c62f614-e852-47ac-87ad-9878a1935dc2",
   "metadata": {},
   "outputs": [
    {
     "name": "stdout",
     "output_type": "stream",
     "text": [
      "2020-02-28 23:00:48.794279\n"
     ]
    }
   ],
   "source": [
    "start_date = end_date - timedelta(days= 5*365)\n",
    "print(start_date)"
   ]
  },
  {
   "cell_type": "raw",
   "id": "157ce71b-409b-4cd4-85f0-543e416d12a3",
   "metadata": {},
   "source": [
    "We are going to use Adjusted close prices because for a valuating PF and calculating opimisation PF, they are more accurate because takes in account DIV and stocks splits --> increase accuracy and avoid underweight"
   ]
  },
  {
   "cell_type": "code",
   "execution_count": 62,
   "id": "7b53afcc-b102-486c-b7fd-89e89ec617d6",
   "metadata": {},
   "outputs": [],
   "source": [
    "adj_close_df = pd.DataFrame()"
   ]
  },
  {
   "cell_type": "code",
   "execution_count": 63,
   "id": "c0b1e7c0-e151-4fb1-9d73-797e47c7d383",
   "metadata": {},
   "outputs": [
    {
     "name": "stderr",
     "output_type": "stream",
     "text": [
      "[*********************100%***********************]  1 of 1 completed\n",
      "[*********************100%***********************]  1 of 1 completed\n",
      "[*********************100%***********************]  1 of 1 completed\n",
      "[*********************100%***********************]  1 of 1 completed\n",
      "[*********************100%***********************]  1 of 1 completed\n",
      "[*********************100%***********************]  1 of 1 completed\n",
      "[*********************100%***********************]  1 of 1 completed\n",
      "[*********************100%***********************]  1 of 1 completed\n",
      "[*********************100%***********************]  1 of 1 completed\n",
      "[*********************100%***********************]  1 of 1 completed\n",
      "[*********************100%***********************]  1 of 1 completed\n",
      "[*********************100%***********************]  1 of 1 completed\n",
      "[*********************100%***********************]  1 of 1 completed\n",
      "[*********************100%***********************]  1 of 1 completed\n",
      "[*********************100%***********************]  1 of 1 completed\n",
      "[*********************100%***********************]  1 of 1 completed\n",
      "[*********************100%***********************]  1 of 1 completed\n",
      "[*********************100%***********************]  1 of 1 completed\n",
      "[*********************100%***********************]  1 of 1 completed\n",
      "[*********************100%***********************]  1 of 1 completed\n"
     ]
    }
   ],
   "source": [
    "for ticker in tickers_smi:\n",
    "    data = yf.download(ticker, start = start_date, end = end_date, auto_adjust=False)\n",
    "    adj_close_df[ticker] = data['Adj Close']"
   ]
  },
  {
   "cell_type": "code",
   "execution_count": 64,
   "id": "45d340a1-d6a1-4974-88cb-611f876f1085",
   "metadata": {},
   "outputs": [
    {
     "name": "stdout",
     "output_type": "stream",
     "text": [
      "              NESN.SW      ROG.SW     NOVN.SW      CFR.SW    UBSG.SW  \\\n",
      "Date                                                                   \n",
      "2020-02-28  86.649315  262.687012   62.861355   58.969711   8.199768   \n",
      "2020-03-02  88.130722  266.927979   63.441612   58.049992   8.134015   \n",
      "2020-03-03  90.655258  272.186768   65.196800   58.735268   8.122411   \n",
      "2020-03-04  92.934357  280.668823   66.523720   59.402512   8.110807   \n",
      "2020-03-05  92.461006  280.159851   66.017075   58.031963   7.882607   \n",
      "...               ...         ...         ...         ...        ...   \n",
      "2025-02-20  82.339996  295.299988   96.660004  180.100006  30.070000   \n",
      "2025-02-21  85.099998  298.399994   98.150002  180.350006  30.320000   \n",
      "2025-02-24  87.779999  298.100006   98.410004  178.100006  30.110001   \n",
      "2025-02-25  89.019997  299.299988  100.720001  179.300003  30.070000   \n",
      "2025-02-26  87.599998  299.899994   97.029999  183.800003  30.719999   \n",
      "\n",
      "              ABBN.SW     ZURN.SW    HOLN.SW     LONN.SW     ALC.SW  \\\n",
      "Date                                                                  \n",
      "2020-02-28  16.624102  282.212250  36.069534  370.791046  57.933205   \n",
      "2020-03-02  16.600136  289.668945  36.755264  379.420837  58.719276   \n",
      "2020-03-03  16.703985  297.277771  36.956955  389.408203  60.743401   \n",
      "2020-03-04  16.680021  298.647369  37.618477  394.062408  58.404842   \n",
      "2020-03-05  16.384447  292.940704  36.916615  393.965485  58.051121   \n",
      "...               ...         ...        ...         ...        ...   \n",
      "2025-02-20  52.360001  575.200012  94.820000  584.200012  80.559998   \n",
      "2025-02-21  52.259998  578.000000  94.360001  583.599976  81.239998   \n",
      "2025-02-24  49.810001  584.200012  93.139999  583.799988  80.639999   \n",
      "2025-02-25  48.970001  588.799988  94.000000  578.200012  80.160004   \n",
      "2025-02-26  49.500000  591.400024  96.220001  576.599976  84.519997   \n",
      "\n",
      "               SREN.SW     SIKA.SW      GIVN.SW      PGHN.SW     KNIN.SW  \\\n",
      "Date                                                                       \n",
      "2020-02-28   64.618065  161.826385  2730.502197   703.998108  118.638878   \n",
      "2020-03-02   65.732170  164.281174  2787.728027   718.061157  121.677658   \n",
      "2020-03-03   65.703964  171.362259  2854.945801   733.140747  123.534691   \n",
      "2020-03-04   66.211655  173.297775  2883.104736   737.884888  122.395149   \n",
      "2020-03-05   65.139854  170.323685  2823.153809   728.057739  121.171181   \n",
      "...                ...         ...          ...          ...         ...   \n",
      "2025-02-20  138.350006  235.800003  3888.000000  1393.500000  213.199997   \n",
      "2025-02-21  138.300003  237.800003  3927.000000  1398.000000  214.199997   \n",
      "2025-02-24  138.550003  232.399994  4005.000000  1344.500000  217.300003   \n",
      "2025-02-25  139.199997  228.800003  3980.000000  1325.000000  216.800003   \n",
      "2025-02-26  144.449997  231.000000  4054.000000  1341.000000  216.699997   \n",
      "\n",
      "               SCMN.SW     SLHN.SW     GEBN.SW     SOON.SW    LOGN.SW  \n",
      "Date                                                                   \n",
      "2020-02-28  418.839264  341.622833  424.771179  215.049927  34.328541  \n",
      "2020-03-02  428.951477  348.477112  436.122131  213.084702  34.995296  \n",
      "2020-03-03  438.084991  352.449432  440.112610  215.892136  35.550922  \n",
      "2020-03-04  453.253235  355.565002  445.522003  219.167480  36.013947  \n",
      "2020-03-05  454.394958  345.049988  442.684357  223.940140  35.736130  \n",
      "...                ...         ...         ...         ...        ...  \n",
      "2025-02-20  495.399994  763.000000  525.000000  290.600006  92.940002  \n",
      "2025-02-21  499.600006  764.400024  525.799988  291.899994  93.559998  \n",
      "2025-02-24  503.500000  769.599976  523.000000  292.500000  93.279999  \n",
      "2025-02-25  506.000000  775.799988  521.599976  292.100006  92.959999  \n",
      "2025-02-26  507.000000  785.200012  534.200012  292.100006  94.220001  \n",
      "\n",
      "[1260 rows x 20 columns]\n"
     ]
    }
   ],
   "source": [
    "print(adj_close_df)"
   ]
  },
  {
   "cell_type": "markdown",
   "id": "dc2e9d98-83ca-4a81-afe2-e794d234bdfc",
   "metadata": {},
   "source": [
    "Calculation of Lognormal returns for each tickers"
   ]
  },
  {
   "cell_type": "code",
   "execution_count": 65,
   "id": "c42cf373-f82b-457e-9aa4-5a127d48bef3",
   "metadata": {},
   "outputs": [],
   "source": [
    "log_returns = np.log(adj_close_df / adj_close_df.shift(1))"
   ]
  },
  {
   "cell_type": "code",
   "execution_count": 66,
   "id": "7f919c22-5999-45ff-ac1c-acc93a992cd5",
   "metadata": {},
   "outputs": [],
   "source": [
    "log_returns = log_returns.dropna()"
   ]
  },
  {
   "cell_type": "markdown",
   "id": "6c620f85-6da1-4d71-94d6-023e5708a520",
   "metadata": {},
   "source": [
    "Covariance matrix. We multiply by 252 in order to annualise the value"
   ]
  },
  {
   "cell_type": "code",
   "execution_count": 67,
   "id": "31956afa-d879-443b-972b-808b9a5520f7",
   "metadata": {},
   "outputs": [
    {
     "name": "stdout",
     "output_type": "stream",
     "text": [
      "          NESN.SW    ROG.SW   NOVN.SW    CFR.SW   UBSG.SW   ABBN.SW   ZURN.SW  \\\n",
      "NESN.SW  0.029522  0.016791  0.016801  0.017124  0.014476  0.014012  0.014902   \n",
      "ROG.SW   0.016791  0.043265  0.021054  0.013671  0.016081  0.014941  0.016713   \n",
      "NOVN.SW  0.016801  0.021054  0.035012  0.016463  0.019958  0.019456  0.020545   \n",
      "CFR.SW   0.017124  0.013671  0.016463  0.124084  0.060364  0.049174  0.033553   \n",
      "UBSG.SW  0.014476  0.016081  0.019958  0.060364  0.103510  0.054811  0.045556   \n",
      "ABBN.SW  0.014012  0.014941  0.019456  0.049174  0.054811  0.067782  0.034314   \n",
      "ZURN.SW  0.014902  0.016713  0.020545  0.033553  0.045556  0.034314  0.048531   \n",
      "HOLN.SW  0.013684  0.012952  0.019423  0.046197  0.056274  0.047356  0.038138   \n",
      "LONN.SW  0.017572  0.025670  0.018530  0.035838  0.027815  0.030324  0.018174   \n",
      "ALC.SW   0.016935  0.017764  0.021142  0.040766  0.036008  0.035060  0.026126   \n",
      "SREN.SW  0.011434  0.013914  0.019159  0.042686  0.053660  0.039224  0.046818   \n",
      "SIKA.SW  0.018749  0.019219  0.016820  0.050721  0.044456  0.046580  0.026423   \n",
      "GIVN.SW  0.017366  0.017785  0.012574  0.023604  0.017569  0.021102  0.014521   \n",
      "PGHN.SW  0.014366  0.016570  0.015829  0.060164  0.059462  0.049685  0.031718   \n",
      "KNIN.SW  0.014466  0.012547  0.011603  0.031670  0.026245  0.030416  0.017970   \n",
      "SCMN.SW  0.011407  0.011941  0.013505  0.007902  0.014453  0.010993  0.015886   \n",
      "SLHN.SW  0.013436  0.014398  0.019323  0.043121  0.057899  0.041632  0.044345   \n",
      "GEBN.SW  0.016158  0.015483  0.012759  0.040005  0.038026  0.038502  0.022703   \n",
      "SOON.SW  0.017519  0.015790  0.017258  0.047672  0.039218  0.036166  0.023880   \n",
      "LOGN.SW  0.016140  0.020006  0.015578  0.040360  0.034154  0.034531  0.016543   \n",
      "\n",
      "          HOLN.SW   LONN.SW    ALC.SW   SREN.SW   SIKA.SW   GIVN.SW   PGHN.SW  \\\n",
      "NESN.SW  0.013684  0.017572  0.016935  0.011434  0.018749  0.017366  0.014366   \n",
      "ROG.SW   0.012952  0.025670  0.017764  0.013914  0.019219  0.017785  0.016570   \n",
      "NOVN.SW  0.019423  0.018530  0.021142  0.019159  0.016820  0.012574  0.015829   \n",
      "CFR.SW   0.046197  0.035838  0.040766  0.042686  0.050721  0.023604  0.060164   \n",
      "UBSG.SW  0.056274  0.027815  0.036008  0.053660  0.044456  0.017569  0.059462   \n",
      "ABBN.SW  0.047356  0.030324  0.035060  0.039224  0.046580  0.021102  0.049685   \n",
      "ZURN.SW  0.038138  0.018174  0.026126  0.046818  0.026423  0.014521  0.031718   \n",
      "HOLN.SW  0.065064  0.025319  0.032291  0.045958  0.040938  0.015279  0.044765   \n",
      "LONN.SW  0.025319  0.100027  0.039459  0.017984  0.048504  0.033355  0.048417   \n",
      "ALC.SW   0.032291  0.039459  0.076147  0.028155  0.036518  0.021950  0.043917   \n",
      "SREN.SW  0.045958  0.017984  0.028155  0.073409  0.028875  0.013535  0.038891   \n",
      "SIKA.SW  0.040938  0.048504  0.036518  0.028875  0.082715  0.035933  0.056976   \n",
      "GIVN.SW  0.015279  0.033355  0.021950  0.013535  0.035933  0.053060  0.029909   \n",
      "PGHN.SW  0.044765  0.048417  0.043917  0.038891  0.056976  0.029909  0.098373   \n",
      "KNIN.SW  0.024138  0.029921  0.026340  0.016533  0.038611  0.025002  0.037536   \n",
      "SCMN.SW  0.011446  0.009729  0.011098  0.013517  0.010229  0.009153  0.007336   \n",
      "SLHN.SW  0.045970  0.023405  0.030769  0.053860  0.033204  0.015299  0.043659   \n",
      "GEBN.SW  0.034492  0.038994  0.030779  0.024272  0.052995  0.031361  0.048818   \n",
      "SOON.SW  0.032730  0.046300  0.046756  0.028437  0.045231  0.029111  0.054615   \n",
      "LOGN.SW  0.028054  0.038118  0.032118  0.015800  0.045517  0.030806  0.045614   \n",
      "\n",
      "          KNIN.SW   SCMN.SW   SLHN.SW   GEBN.SW   SOON.SW   LOGN.SW  \n",
      "NESN.SW  0.014466  0.011407  0.013436  0.016158  0.017519  0.016140  \n",
      "ROG.SW   0.012547  0.011941  0.014398  0.015483  0.015790  0.020006  \n",
      "NOVN.SW  0.011603  0.013505  0.019323  0.012759  0.017258  0.015578  \n",
      "CFR.SW   0.031670  0.007902  0.043121  0.040005  0.047672  0.040360  \n",
      "UBSG.SW  0.026245  0.014453  0.057899  0.038026  0.039218  0.034154  \n",
      "ABBN.SW  0.030416  0.010993  0.041632  0.038502  0.036166  0.034531  \n",
      "ZURN.SW  0.017970  0.015886  0.044345  0.022703  0.023880  0.016543  \n",
      "HOLN.SW  0.024138  0.011446  0.045970  0.034492  0.032730  0.028054  \n",
      "LONN.SW  0.029921  0.009729  0.023405  0.038994  0.046300  0.038118  \n",
      "ALC.SW   0.026340  0.011098  0.030769  0.030779  0.046756  0.032118  \n",
      "SREN.SW  0.016533  0.013517  0.053860  0.024272  0.028437  0.015800  \n",
      "SIKA.SW  0.038611  0.010229  0.033204  0.052995  0.045231  0.045517  \n",
      "GIVN.SW  0.025002  0.009153  0.015299  0.031361  0.029111  0.030806  \n",
      "PGHN.SW  0.037536  0.007336  0.043659  0.048818  0.054615  0.045614  \n",
      "KNIN.SW  0.074593  0.008850  0.020787  0.032920  0.028628  0.033626  \n",
      "SCMN.SW  0.008850  0.028399  0.014378  0.008367  0.006427  0.007481  \n",
      "SLHN.SW  0.020787  0.014378  0.065207  0.029662  0.034611  0.018962  \n",
      "GEBN.SW  0.032920  0.008367  0.029662  0.059955  0.039463  0.038032  \n",
      "SOON.SW  0.028628  0.006427  0.034611  0.039463  0.104131  0.037338  \n",
      "LOGN.SW  0.033626  0.007481  0.018962  0.038032  0.037338  0.126607  \n"
     ]
    }
   ],
   "source": [
    "cov_matrix = log_returns.cov()*252\n",
    "print(cov_matrix)"
   ]
  },
  {
   "cell_type": "markdown",
   "id": "e2ee3e3d-4281-4e8b-944e-8b58c6d7cf3d",
   "metadata": {},
   "source": [
    "Calculate the PF STD DEV"
   ]
  },
  {
   "cell_type": "code",
   "execution_count": 68,
   "id": "b9cb6930-a60d-4b41-bc1d-531e0711ca7b",
   "metadata": {},
   "outputs": [],
   "source": [
    "def standard_deviation(weights, cov_matrix):\n",
    "    variance = weights.T @ cov_matrix @ weights\n",
    "    return np.sqrt(variance)"
   ]
  },
  {
   "cell_type": "markdown",
   "id": "baef494b-a034-4ec1-9b92-c77310a566fd",
   "metadata": {},
   "source": [
    "Calulate Expected Returns"
   ]
  },
  {
   "cell_type": "markdown",
   "id": "67ff6f2d-8337-4093-8ba3-3a5ccef377db",
   "metadata": {},
   "source": [
    "Assumption: We base expected return on past returns. We assume that the future returns will be the average of past returns."
   ]
  },
  {
   "cell_type": "code",
   "execution_count": 69,
   "id": "0ab0304b-0ce3-4fe4-82e2-4bc44226e1b3",
   "metadata": {},
   "outputs": [],
   "source": [
    "def expected_return (weights, log_returns):\n",
    "    return np.sum(log_returns.mean()*weights)*252"
   ]
  },
  {
   "cell_type": "markdown",
   "id": "64e3988b-d9b1-4303-9e36-04fa8658ef02",
   "metadata": {},
   "source": [
    "Calculate the Sharpe Ratio"
   ]
  },
  {
   "cell_type": "code",
   "execution_count": 70,
   "id": "5040e699-a61a-4c37-829c-829d12283bf4",
   "metadata": {},
   "outputs": [],
   "source": [
    "def sharpe_ratio(weights, log_returns_, cov_matrix, risk_free_rate):\n",
    "    return (expected_return (weights, log_returns) - risk_free_rate) / standard_deviation(weights, cov_matrix)"
   ]
  },
  {
   "cell_type": "markdown",
   "id": "34d90052-39e6-461e-9eb8-5abee568f1cf",
   "metadata": {},
   "source": [
    "Risk free rate"
   ]
  },
  {
   "cell_type": "code",
   "execution_count": 71,
   "id": "1b1ed67a-2411-4df4-b9c3-5b59a0fd90c1",
   "metadata": {},
   "outputs": [
    {
     "name": "stdout",
     "output_type": "stream",
     "text": [
      "0.0463\n"
     ]
    }
   ],
   "source": [
    "from fredapi import Fred\n",
    "\n",
    "# Replace with your actual FRED API Key\n",
    "fred = Fred(api_key='3ed72ba7792bc5b11006b39d80be00dd')\n",
    "\n",
    "# Get the latest 10-year Treasury rate\n",
    "ten_year_treasury_rate = fred.get_series_latest_release('GS10') / 100\n",
    "\n",
    "# The value is already a float, no need for iloc\n",
    "risk_free_rate = ten_year_treasury_rate.iloc[-1]\n",
    "\n",
    "print(risk_free_rate)"
   ]
  },
  {
   "cell_type": "markdown",
   "id": "010fbb5d-70fd-463f-8814-36505af70ec5",
   "metadata": {},
   "source": [
    "Define the function to minimize (negative Sharpe Ratio). In case of the scipy.optimize.minimize() function, there is no direct method to find the maximum value of a function"
   ]
  },
  {
   "cell_type": "code",
   "execution_count": 72,
   "id": "5ede31ca-649b-4237-8584-5913c28338ea",
   "metadata": {},
   "outputs": [],
   "source": [
    "\n",
    "def neg_sharpe_ratio(weights, log_returns, cov_matrix, risk_free_rate):\n",
    "    return -sharpe_ratio(weights, log_returns, cov_matrix, risk_free_rate)\n"
   ]
  },
  {
   "cell_type": "markdown",
   "id": "0c17a0d0-8e56-419d-a549-591a863615e8",
   "metadata": {},
   "source": [
    "Set the Contraints. Bounds--> 0-0.5 are the maximum weights. No long and we cannot have over 50% of our PF in one security."
   ]
  },
  {
   "cell_type": "code",
   "execution_count": 73,
   "id": "bddfc0c3-bdd9-4f54-8575-33be459b3225",
   "metadata": {},
   "outputs": [],
   "source": [
    "constraints = {'type': 'eq', 'fun' : lambda weights: np.sum(weights) - 1}\n",
    "bounds = [(0, 0.5) for _ in range(len(tickers_smi))]"
   ]
  },
  {
   "cell_type": "markdown",
   "id": "5261357e-afa3-4c1f-bc36-e82915f091f2",
   "metadata": {},
   "source": [
    "Set the inital weights"
   ]
  },
  {
   "cell_type": "code",
   "execution_count": 74,
   "id": "a03fde1b-09d3-497c-a0f7-69c54bafa07e",
   "metadata": {},
   "outputs": [
    {
     "name": "stdout",
     "output_type": "stream",
     "text": [
      "[0.05 0.05 0.05 0.05 0.05 0.05 0.05 0.05 0.05 0.05 0.05 0.05 0.05 0.05\n",
      " 0.05 0.05 0.05 0.05 0.05 0.05]\n"
     ]
    }
   ],
   "source": [
    "\n",
    "initial_weights = np.array([1/len(tickers_smi)]*len(tickers_smi))\n",
    "print(initial_weights)"
   ]
  },
  {
   "cell_type": "markdown",
   "id": "f9479010-498c-4527-ae24-61d9c455075f",
   "metadata": {},
   "source": [
    "Now we are going to optimise the weights to maximise the Sharpe Ratio"
   ]
  },
  {
   "cell_type": "code",
   "execution_count": 75,
   "id": "3f5cd9bf-158b-4929-a0aa-7890b2772578",
   "metadata": {},
   "outputs": [
    {
     "name": "stdout",
     "output_type": "stream",
     "text": [
      " message: Optimization terminated successfully\n",
      " success: True\n",
      "  status: 0\n",
      "     fun: -0.7625494778531315\n",
      "       x: [ 8.071e-17  0.000e+00 ...  0.000e+00  1.657e-01]\n",
      "     nit: 9\n",
      "     jac: [ 1.802e-01  9.622e-02 ...  2.392e-01 -1.896e-01]\n",
      "    nfev: 189\n",
      "    njev: 9\n"
     ]
    }
   ],
   "source": [
    "optimised_results = minimize(neg_sharpe_ratio, initial_weights, args = (log_returns, cov_matrix, risk_free_rate), method = 'SLSQP', constraints = constraints, bounds = bounds)\n",
    "print(optimised_results)"
   ]
  },
  {
   "cell_type": "markdown",
   "id": "d2678367-3e84-4754-b1a9-a82f96c014cf",
   "metadata": {},
   "source": [
    "Get the Optimal Weights"
   ]
  },
  {
   "cell_type": "code",
   "execution_count": 76,
   "id": "7f08e212-9ac7-491d-a259-de708efa6f2b",
   "metadata": {},
   "outputs": [],
   "source": [
    "optimal_weights = optimised_results.x"
   ]
  },
  {
   "cell_type": "markdown",
   "id": "55198af1-defe-4225-ab80-51e2e5abb6ca",
   "metadata": {},
   "source": [
    "Display analytics of the optimal PF"
   ]
  },
  {
   "cell_type": "code",
   "execution_count": 77,
   "id": "a0568496-0c69-4c3a-bdf4-e6ee4a06a563",
   "metadata": {},
   "outputs": [
    {
     "name": "stdout",
     "output_type": "stream",
     "text": [
      "Optimal Weights:\n",
      "\n",
      "NESN.SW:  0.0000\n",
      "ROG.SW:  0.0000\n",
      "NOVN.SW:  0.0000\n",
      "CFR.SW:  0.0848\n",
      "UBSG.SW:  0.3673\n",
      "ABBN.SW:  0.3415\n",
      "ZURN.SW:  0.0000\n",
      "HOLN.SW:  0.0407\n",
      "LONN.SW:  0.0000\n",
      "ALC.SW:  0.0000\n",
      "SREN.SW:  0.0000\n",
      "SIKA.SW:  0.0000\n",
      "GIVN.SW:  0.0000\n",
      "PGHN.SW:  0.0000\n",
      "KNIN.SW:  0.0000\n",
      "SCMN.SW:  0.0000\n",
      "SLHN.SW:  0.0000\n",
      "GEBN.SW:  0.0000\n",
      "SOON.SW:  0.0000\n",
      "LOGN.SW:  0.1657\n",
      "\n",
      "Expected Annual Return:  0.2325\n",
      "Expected Volatility:  0.2441\n",
      "Sharpe Ratio:  0.7625\n"
     ]
    }
   ],
   "source": [
    "print(\"Optimal Weights:\")\n",
    "print()\n",
    "for ticker, weight in zip(tickers_smi, optimal_weights):\n",
    "    print(f\"{ticker}: {weight: .4f}\")\n",
    "\n",
    "print()\n",
    "\n",
    "optimal_portfolio_return = expected_return(optimal_weights, log_returns)\n",
    "optimal_portfolio_volatility = standard_deviation(optimal_weights, cov_matrix)\n",
    "optimal_sharpe_ratio = sharpe_ratio(optimal_weights, log_returns, cov_matrix, risk_free_rate)\n",
    "\n",
    "print(f\"Expected Annual Return: {optimal_portfolio_return: .4f}\")\n",
    "print(f\"Expected Volatility: {optimal_portfolio_volatility: .4f}\")\n",
    "print(f\"Sharpe Ratio: {optimal_sharpe_ratio: .4f}\")"
   ]
  },
  {
   "cell_type": "markdown",
   "id": "144aa4c0-71aa-412d-8ca6-62e692f96bda",
   "metadata": {},
   "source": [
    "Display the final portfolio in a plot"
   ]
  },
  {
   "cell_type": "code",
   "execution_count": 78,
   "id": "734fb580-8d3d-4802-9425-5adba611982b",
   "metadata": {},
   "outputs": [
    {
     "data": {
      "image/png": "[encoded data removed]",
      "text/plain": [
       "<Figure size 1000x600 with 1 Axes>"
      ]
     },
     "metadata": {},
     "output_type": "display_data"
    }
   ],
   "source": [
    "import matplotlib.pyplot as plt\n",
    "\n",
    "plt.figure(figsize = (10,6))\n",
    "plt.bar(tickers_smi, optimal_weights)\n",
    "\n",
    "plt.xlabel('Assets')\n",
    "plt.ylabel('Optimal weights')\n",
    "plt.title('Optimal Portfolio Weights')\n",
    "\n",
    "plt.xticks(size = 5)\n",
    "\n",
    "plt.show()"
   ]
  },
  {
   "cell_type": "code",
   "execution_count": null,
   "id": "3ae7ce92-6589-429d-b00e-0f44030d3051",
   "metadata": {},
   "outputs": [],
   "source": []
  }
 ],
 "metadata": {
  "kernelspec": {
   "display_name": "Python 3 (ipykernel)",
   "language": "python",
   "name": "python3"
  },
  "language_info": {
   "codemirror_mode": {
    "name": "ipython",
    "version": 3
   },
   "file_extension": ".py",
   "mimetype": "text/x-python",
   "name": "python",
   "nbconvert_exporter": "python",
   "pygments_lexer": "ipython3",
   "version": "3.13.0"
  }
 },
 "nbformat": 4,
 "nbformat_minor": 5
}
