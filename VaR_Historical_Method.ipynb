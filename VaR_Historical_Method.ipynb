{
 "cells": [
  {
   "cell_type": "code",
   "execution_count": 27,
   "id": "e534f73a-8b7b-457d-b55d-8845b97b259a",
   "metadata": {},
   "outputs": [],
   "source": [
    "import numpy as np\n",
    "import pandas as pd\n",
    "import datetime as dt\n",
    "import yfinance as yf\n",
    "import matplotlib.pyplot as plt\n",
    "from scipy.stats import norm"
   ]
  },
  {
   "cell_type": "code",
   "execution_count": 28,
   "id": "e8aeef42-49cc-450a-b578-103097be2f2d",
   "metadata": {},
   "outputs": [],
   "source": [
    "years = 15\n",
    "\n",
    "endDate = dt.datetime.now()\n",
    "startDate = endDate - dt.timedelta(days = 365*years)"
   ]
  },
  {
   "cell_type": "code",
   "execution_count": 29,
   "id": "3bb98e25-8e3a-4408-9d5f-e8e18c803b38",
   "metadata": {},
   "outputs": [],
   "source": [
    "tickers = ['SPY', 'BND', 'GLD', 'QQQ', 'VTI']"
   ]
  },
  {
   "cell_type": "code",
   "execution_count": 30,
   "id": "0ef743d4-b96c-41a0-ac71-6a79afcacd98",
   "metadata": {},
   "outputs": [],
   "source": [
    "adj_close_df = pd.DataFrame()\n"
   ]
  },
  {
   "cell_type": "code",
   "execution_count": 31,
   "id": "e88310ff-70be-46bc-b0ab-b16b69ea57cd",
   "metadata": {},
   "outputs": [
    {
     "name": "stderr",
     "output_type": "stream",
     "text": [
      "[*********************100%***********************]  1 of 1 completed\n",
      "[*********************100%***********************]  1 of 1 completed\n",
      "[*********************100%***********************]  1 of 1 completed\n",
      "[*********************100%***********************]  1 of 1 completed\n",
      "[*********************100%***********************]  1 of 1 completed"
     ]
    },
    {
     "name": "stdout",
     "output_type": "stream",
     "text": [
      "                   SPY        BND         GLD         QQQ         VTI\n",
      "Date                                                                 \n",
      "2010-03-05   86.724800  51.907173  110.809998   40.563667   44.434643\n",
      "2010-03-08   86.739990  51.822258  109.879997   40.642265   44.442284\n",
      "2010-03-09   86.884193  51.854923  109.720001   40.869370   44.533878\n",
      "2010-03-10   87.271324  51.815731  108.470001   41.201286   44.770512\n",
      "2010-03-11   87.635704  51.809147  108.599998   41.358501   44.938473\n",
      "...                ...        ...         ...         ...         ...\n",
      "2025-02-24  597.210022  72.870003  272.209991  519.869995  294.410004\n",
      "2025-02-25  594.239990  73.330002  268.619995  513.320007  292.950012\n",
      "2025-02-26  594.539978  73.440002  269.029999  514.559998  293.049988\n",
      "2025-02-27  585.049988  73.349998  264.929993  500.269989  288.510010\n",
      "2025-02-28  594.179993  73.660004  263.269989  508.170013  292.959991\n",
      "\n",
      "[3771 rows x 5 columns]\n"
     ]
    },
    {
     "name": "stderr",
     "output_type": "stream",
     "text": [
      "\n"
     ]
    }
   ],
   "source": [
    "for ticker in tickers:\n",
    "    data = yf.download(ticker, start = startDate, end = endDate, auto_adjust = False )\n",
    "    adj_close_df[ticker] = data['Adj Close']\n",
    "\n",
    "print(adj_close_df)"
   ]
  },
  {
   "cell_type": "markdown",
   "id": "c6590c5f-30dc-43cd-9c86-5a366a505345",
   "metadata": {},
   "source": [
    "Calculate log return and drop n/a"
   ]
  },
  {
   "cell_type": "code",
   "execution_count": 32,
   "id": "b2f07936-8715-4b3a-b947-69e7dc3cbf27",
   "metadata": {},
   "outputs": [
    {
     "name": "stdout",
     "output_type": "stream",
     "text": [
      "                 SPY       BND       GLD       QQQ       VTI\n",
      "Date                                                        \n",
      "2010-03-08  0.000175 -0.001637 -0.008428  0.001936  0.000172\n",
      "2010-03-09  0.001661  0.000630 -0.001457  0.005572  0.002059\n",
      "2010-03-10  0.004446 -0.000756 -0.011458  0.008089  0.005299\n",
      "2010-03-11  0.004167 -0.000127  0.001198  0.003809  0.003745\n",
      "2010-03-12  0.000086  0.000379 -0.006003  0.000211  0.000000\n",
      "...              ...       ...       ...       ...       ...\n",
      "2025-02-24 -0.004561  0.001373  0.005415 -0.011875 -0.005116\n",
      "2025-02-25 -0.004986  0.006293 -0.013276 -0.012679 -0.004971\n",
      "2025-02-26  0.000505  0.001499  0.001525  0.002413  0.000341\n",
      "2025-02-27 -0.016091 -0.001226 -0.015357 -0.028164 -0.015613\n",
      "2025-02-28  0.015485  0.004217 -0.006286  0.015668  0.015306\n",
      "\n",
      "[3770 rows x 5 columns]\n"
     ]
    }
   ],
   "source": [
    "log_returns = np.log(adj_close_df / adj_close_df.shift(1))\n",
    "log_returns = log_returns.dropna()\n",
    "print(log_returns)"
   ]
  },
  {
   "cell_type": "code",
   "execution_count": 33,
   "id": "c85b0140-44ba-489e-ab03-4e52e30460f4",
   "metadata": {},
   "outputs": [
    {
     "name": "stdout",
     "output_type": "stream",
     "text": [
      "[0.2 0.2 0.2 0.2 0.2]\n"
     ]
    }
   ],
   "source": [
    "portfolio_value = 1000000\n",
    "weights = np.array([1/len(tickers)]*len(tickers))\n",
    "print(weights)"
   ]
  },
  {
   "cell_type": "markdown",
   "id": "58295c4d-d64d-449d-82b3-123bbcc6fb44",
   "metadata": {},
   "source": [
    "historical returns with equal weights"
   ]
  },
  {
   "cell_type": "code",
   "execution_count": 34,
   "id": "951b158c-ffb2-4c72-8093-0ea1ef8a17a9",
   "metadata": {},
   "outputs": [
    {
     "name": "stdout",
     "output_type": "stream",
     "text": [
      "Date\n",
      "2010-03-08   -0.001557\n",
      "2010-03-09    0.001693\n",
      "2010-03-10    0.001124\n",
      "2010-03-11    0.002558\n",
      "2010-03-12   -0.001065\n",
      "                ...   \n",
      "2025-02-24   -0.002953\n",
      "2025-02-25   -0.005924\n",
      "2025-02-26    0.001257\n",
      "2025-02-27   -0.015290\n",
      "2025-02-28    0.008878\n",
      "Length: 3770, dtype: float64\n"
     ]
    }
   ],
   "source": [
    "historical_returns = (log_returns*weights).sum(axis = 1)\n",
    "print(historical_returns)"
   ]
  },
  {
   "cell_type": "markdown",
   "id": "844d5a0a-4f6a-4160-9c19-aa92498f4aca",
   "metadata": {},
   "source": [
    "Find the X-day historical returns (rolling average of 5 days)"
   ]
  },
  {
   "cell_type": "code",
   "execution_count": 35,
   "id": "7d068ecc-c492-4ecc-b79a-2aee39420eb2",
   "metadata": {},
   "outputs": [
    {
     "name": "stdout",
     "output_type": "stream",
     "text": [
      "Date\n",
      "2010-03-12    0.002753\n",
      "2010-03-15    0.004822\n",
      "2010-03-16    0.011689\n",
      "2010-03-17    0.012147\n",
      "2010-03-18    0.010934\n",
      "                ...   \n",
      "2025-02-24   -0.010703\n",
      "2025-02-25   -0.020768\n",
      "2025-02-26   -0.020709\n",
      "2025-02-27   -0.033588\n",
      "2025-02-28   -0.014032\n",
      "Length: 3766, dtype: float64\n"
     ]
    }
   ],
   "source": [
    "days = 5 \n",
    "\n",
    "range_returns = historical_returns.rolling(window = days).sum()\n",
    "range_returns = range_returns.dropna()\n",
    "print(range_returns)"
   ]
  },
  {
   "cell_type": "markdown",
   "id": "10443f29-6f6f-46c2-bc70-e6d1d9839ba8",
   "metadata": {},
   "source": [
    "Let's Specify a confidence interval and calculate the Value at Risk (VaR) using historical method. (-np.percentile(range_returns, 100 - (confidence_interval * 100))) gives you VaR in returns and we * by PF value in order to bring it in USD"
   ]
  },
  {
   "cell_type": "code",
   "execution_count": 36,
   "id": "d944f2fa-976c-4de8-9ebf-449300b8619a",
   "metadata": {},
   "outputs": [
    {
     "name": "stdout",
     "output_type": "stream",
     "text": [
      "43658.55747431603\n"
     ]
    }
   ],
   "source": [
    "confidence_interval = 0.99\n",
    "\n",
    "VaR = -np.percentile(range_returns, 100 - (confidence_interval * 100)) * portfolio_value\n",
    "print(VaR)"
   ]
  },
  {
   "cell_type": "markdown",
   "id": "a63cc297-68d4-4c3b-8cf2-bc14fed0ca28",
   "metadata": {},
   "source": [
    "Let's Plot the VaR"
   ]
  },
  {
   "cell_type": "code",
   "execution_count": 38,
   "id": "f71911f6-30bc-40f2-a631-85d152eaa240",
   "metadata": {},
   "outputs": [
    {
     "data": {
      "text/plain": [
       "<function matplotlib.pyplot.show(close=None, block=None)>"
      ]
     },
     "execution_count": 38,
     "metadata": {},
     "output_type": "execute_result"
    },
    {
     "data": {
      "image/png": "[encoded data removed]",
      "text/plain": [
       "<Figure size 640x480 with 1 Axes>"
      ]
     },
     "metadata": {},
     "output_type": "display_data"
    }
   ],
   "source": [
    "return_window = days\n",
    "range_returns = historical_returns.rolling(window = return_window).sum()\n",
    "range_returns = range_returns.dropna()\n",
    "\n",
    "range_returns_dollar = range_returns * portfolio_value\n",
    "\n",
    "plt.hist(range_returns_dollar.dropna(), bins = 50, density = True)\n",
    "plt.xlabel(f'{return_window}-Days Portfolio Return (Dollar Value)')\n",
    "plt.ylabel('Frequency')\n",
    "plt.title(f'Distribution of Portfolio {return_window}-Day Returns (Dollar Value)')\n",
    "plt.axvline(-VaR, color = 'r', linestyle = 'dashed', linewidth = 2, label = f'Var at {confidence_interval: .0%} confidence level')\n",
    "plt.legend()\n",
    "plt.show"
   ]
  },
  {
   "cell_type": "code",
   "execution_count": null,
   "id": "681be4d6-a971-4663-a0ea-d0e6de50b591",
   "metadata": {},
   "outputs": [],
   "source": []
  }
 ],
 "metadata": {
  "kernelspec": {
   "display_name": "Python 3 (ipykernel)",
   "language": "python",
   "name": "python3"
  },
  "language_info": {
   "codemirror_mode": {
    "name": "ipython",
    "version": 3
   },
   "file_extension": ".py",
   "mimetype": "text/x-python",
   "name": "python",
   "nbconvert_exporter": "python",
   "pygments_lexer": "ipython3",
   "version": "3.13.0"
  }
 },
 "nbformat": 4,
 "nbformat_minor": 5
}
