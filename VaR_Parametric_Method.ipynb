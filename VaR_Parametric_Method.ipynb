{
 "cells": [
  {
   "cell_type": "code",
   "execution_count": 13,
   "id": "cfd1140c-d327-49a2-aad7-cb76bcf0c4ce",
   "metadata": {},
   "outputs": [],
   "source": [
    "import yfinance as yf\n",
    "import pandas as pd\n",
    "import datetime as dt\n",
    "import numpy as np\n",
    "import matplotlib.pyplot as plt\n",
    "from scipy.stats import norm\n"
   ]
  },
  {
   "cell_type": "code",
   "execution_count": 14,
   "id": "dee203bc-ee3c-4538-883a-c9493669ebe7",
   "metadata": {},
   "outputs": [],
   "source": [
    "years = 15\n",
    "\n",
    "endDate = dt.datetime.now()\n",
    "startDate = endDate - dt.timedelta(days = 365 * years)"
   ]
  },
  {
   "cell_type": "code",
   "execution_count": 15,
   "id": "f2b9e160-7524-40e9-b47d-5772187b8622",
   "metadata": {},
   "outputs": [],
   "source": [
    "tickers = ['SPY', 'BND', 'GLD', 'QQQ', 'VTI']"
   ]
  },
  {
   "cell_type": "code",
   "execution_count": 16,
   "id": "9bfab22e-2b79-454c-be7a-c6f2a28b7fff",
   "metadata": {},
   "outputs": [
    {
     "name": "stderr",
     "output_type": "stream",
     "text": [
      "[*********************100%***********************]  1 of 1 completed\n",
      "[*********************100%***********************]  1 of 1 completed\n",
      "[*********************100%***********************]  1 of 1 completed\n",
      "[*********************100%***********************]  1 of 1 completed\n",
      "[*********************100%***********************]  1 of 1 completed"
     ]
    },
    {
     "name": "stdout",
     "output_type": "stream",
     "text": [
      "                   SPY        BND         GLD         QQQ         VTI\n",
      "Date                                                                 \n",
      "2010-03-08   86.739998  51.822239  109.879997   40.642265   44.442268\n",
      "2010-03-09   86.884193  51.854897  109.720001   40.869385   44.533871\n",
      "2010-03-10   87.271347  51.815742  108.470001   41.201286   44.770538\n",
      "2010-03-11   87.635674  51.809200  108.599998   41.358498   44.938454\n",
      "2010-03-12   87.643295  51.828812  107.949997   41.367245   44.938454\n",
      "...                ...        ...         ...         ...         ...\n",
      "2025-02-24  597.210022  72.870003  272.209991  519.869995  294.410004\n",
      "2025-02-25  594.239990  73.330002  268.619995  513.320007  292.950012\n",
      "2025-02-26  594.539978  73.440002  269.029999  514.559998  293.049988\n",
      "2025-02-27  585.049988  73.349998  264.929993  500.269989  288.510010\n",
      "2025-02-28  594.179993  73.660004  263.269989  508.170013  292.959991\n",
      "\n",
      "[3770 rows x 5 columns]\n"
     ]
    },
    {
     "name": "stderr",
     "output_type": "stream",
     "text": [
      "\n"
     ]
    }
   ],
   "source": [
    "adj_close_df = pd.DataFrame()\n",
    "\n",
    "for ticker in tickers:\n",
    "    data = yf.download(ticker, start = startDate, end = endDate, auto_adjust= False)\n",
    "    adj_close_df[ticker] = data['Adj Close']\n",
    "\n",
    "print(adj_close_df)"
   ]
  },
  {
   "cell_type": "markdown",
   "id": "2892ea66-f04b-49a2-86a1-55afebc4c5dd",
   "metadata": {},
   "source": [
    "Calculate the Daily Log Returns"
   ]
  },
  {
   "cell_type": "code",
   "execution_count": 18,
   "id": "6b5b3f70-a5bb-474b-8fe0-45539e709b85",
   "metadata": {},
   "outputs": [
    {
     "name": "stdout",
     "output_type": "stream",
     "text": [
      "                 SPY       BND       GLD       QQQ       VTI\n",
      "Date                                                        \n",
      "2010-03-09  0.001661  0.000630 -0.001457  0.005573  0.002059\n",
      "2010-03-10  0.004446 -0.000755 -0.011458  0.008088  0.005300\n",
      "2010-03-11  0.004166 -0.000126  0.001198  0.003808  0.003744\n",
      "2010-03-12  0.000087  0.000378 -0.006003  0.000211  0.000000\n",
      "2010-03-15  0.000260  0.001384  0.003791 -0.002537 -0.000340\n",
      "...              ...       ...       ...       ...       ...\n",
      "2025-02-24 -0.004561  0.001373  0.005415 -0.011875 -0.005116\n",
      "2025-02-25 -0.004986  0.006293 -0.013276 -0.012679 -0.004971\n",
      "2025-02-26  0.000505  0.001499  0.001525  0.002413  0.000341\n",
      "2025-02-27 -0.016091 -0.001226 -0.015357 -0.028164 -0.015613\n",
      "2025-02-28  0.015485  0.004217 -0.006286  0.015668  0.015306\n",
      "\n",
      "[3769 rows x 5 columns]\n"
     ]
    }
   ],
   "source": [
    "log_returns = np.log(adj_close_df / adj_close_df.shift(1))\n",
    "log_returns = log_returns.dropna()\n",
    "print(log_returns)"
   ]
  },
  {
   "cell_type": "markdown",
   "id": "bd97ce2d-78f6-49a8-a973-068b88b45ef2",
   "metadata": {},
   "source": [
    "Create an equally weighted PF"
   ]
  },
  {
   "cell_type": "code",
   "execution_count": 21,
   "id": "9182edfe-9429-4c73-b885-551ca49c4c9a",
   "metadata": {},
   "outputs": [
    {
     "name": "stdout",
     "output_type": "stream",
     "text": [
      "[0.2 0.2 0.2 0.2 0.2]\n"
     ]
    }
   ],
   "source": [
    "portfolio_value = 1000000\n",
    "weight = np.array([1/len(tickers)]*len(tickers))\n",
    "print(weight)"
   ]
  },
  {
   "cell_type": "markdown",
   "id": "acb13549-7cd6-49e1-a94f-1e76ac26d1af",
   "metadata": {},
   "source": [
    "calculate hsitorical PF returns"
   ]
  },
  {
   "cell_type": "code",
   "execution_count": 23,
   "id": "ac74053f-eab3-40f3-8f02-627f21ae108b",
   "metadata": {},
   "outputs": [
    {
     "name": "stdout",
     "output_type": "stream",
     "text": [
      "Date\n",
      "2010-03-09    0.001693\n",
      "2010-03-10    0.001124\n",
      "2010-03-11    0.002558\n",
      "2010-03-12   -0.001065\n",
      "2010-03-15    0.000512\n",
      "                ...   \n",
      "2025-02-24   -0.002953\n",
      "2025-02-25   -0.005924\n",
      "2025-02-26    0.001257\n",
      "2025-02-27   -0.015290\n",
      "2025-02-28    0.008878\n",
      "Length: 3769, dtype: float64\n"
     ]
    }
   ],
   "source": [
    "historical_returns = (log_returns*weight).sum(axis = 1)\n",
    "print(historical_returns)"
   ]
  },
  {
   "cell_type": "code",
   "execution_count": 24,
   "id": "0a3a0f7f-f5be-4435-a726-6c9f523d5208",
   "metadata": {},
   "outputs": [],
   "source": [
    "days = 5\n",
    "\n",
    "historical_x_day_returns = historical_returns.rolling(window = days).sum()"
   ]
  },
  {
   "cell_type": "code",
   "execution_count": 25,
   "id": "b5b93ca8-c8ca-47f7-a998-5e6fdc851534",
   "metadata": {},
   "outputs": [],
   "source": [
    "cov_matrix = log_returns.cov() * 252"
   ]
  },
  {
   "cell_type": "code",
   "execution_count": 26,
   "id": "6c7174ca-1004-4a00-8261-c4aee0304467",
   "metadata": {},
   "outputs": [],
   "source": [
    "portfolio_std_dev = np.sqrt(weight.T @ cov_matrix @ weight)"
   ]
  },
  {
   "cell_type": "markdown",
   "id": "a81fc898-eef4-42ed-b5fb-bf1479a75087",
   "metadata": {},
   "source": [
    "Set different confidence levels to visualise"
   ]
  },
  {
   "cell_type": "code",
   "execution_count": 27,
   "id": "00ed181b-3670-4fff-86ad-f80e7da86970",
   "metadata": {},
   "outputs": [],
   "source": [
    "confidence_levels = [0.9, 0.95, 0.99]"
   ]
  },
  {
   "cell_type": "code",
   "execution_count": 29,
   "id": "9266d35b-642d-454c-9b8f-55983d7a33fe",
   "metadata": {},
   "outputs": [],
   "source": [
    "from scipy.stats import norm\n",
    "\n",
    "VaRs = []\n",
    "\n",
    "for cl in confidence_levels:\n",
    "    VaR = portfolio_value * portfolio_std_dev * norm.ppf(cl) * np.sqrt(days/252)\n",
    "    VaRs.append(VaR)"
   ]
  },
  {
   "cell_type": "markdown",
   "id": "b3a4aa04-f76b-4c61-8da5-b3f3a69b27d3",
   "metadata": {},
   "source": [
    "Print out the VaR results"
   ]
  },
  {
   "cell_type": "code",
   "execution_count": 34,
   "id": "9242afbd-5048-4f27-a1f0-2200f8c38d57",
   "metadata": {},
   "outputs": [
    {
     "name": "stdout",
     "output_type": "stream",
     "text": [
      "Confidence Level     Value at Risk       \n",
      "----------------------------------------\n",
      "    90%:          $ 20,838.27\n",
      "    95%:          $ 26,745.63\n",
      "    99%:          $ 37,826.85\n"
     ]
    }
   ],
   "source": [
    "print(f'{\"Confidence Level\": <20} {\"Value at Risk\":<20}')\n",
    "print('-' * 40)\n",
    "\n",
    "#Print each confiance level and its corresponding VaR valye\n",
    "for cl, VaR in zip(confidence_levels, VaRs):\n",
    "    print(f'{cl * 100: >6.0f}%: {'':<8} ${VaR:>10,.2f}')"
   ]
  },
  {
   "cell_type": "markdown",
   "id": "4d461cf2-b4a8-450f-a6b0-0d367dfbfbb2",
   "metadata": {},
   "source": [
    "Graph the results"
   ]
  },
  {
   "cell_type": "code",
   "execution_count": 35,
   "id": "3fccbb41-1235-4e4c-a31a-cfc210cb7035",
   "metadata": {},
   "outputs": [
    {
     "data": {
      "text/plain": [
       "<function matplotlib.pyplot.show(close=None, block=None)>"
      ]
     },
     "execution_count": 35,
     "metadata": {},
     "output_type": "execute_result"
    },
    {
     "data": {
      "image/png": "[encoded data removed]",
      "text/plain": [
       "<Figure size 640x480 with 1 Axes>"
      ]
     },
     "metadata": {},
     "output_type": "display_data"
    }
   ],
   "source": [
    "historical_x_day_returns_dollar = historical_x_day_returns * portfolio_value\n",
    "\n",
    "plt.hist (historical_x_day_returns_dollar, bins = 50, density = True, alpha = 0.5, label = f'{days}-Day Returns')\n",
    "\n",
    "for cl, VaR in zip(confidence_levels, VaRs):\n",
    "    plt.axvline(x= -VaR, linestyle = '--', color = 'r', label = 'VaR at {}% Confidence'.format(int(cl*100)))\n",
    "\n",
    "plt.xlabel(f'{days}-Day portfolio Return ($)')\n",
    "plt.ylabel('Frequency')\n",
    "plt.legend()\n",
    "plt.title(f'Distribution of portfolio {days}-Day Returns and Parametric VaR Esimates')\n",
    "plt.show"
   ]
  },
  {
   "cell_type": "code",
   "execution_count": null,
   "id": "fe3e3826-f4e7-4f54-9b00-da6d86be64a9",
   "metadata": {},
   "outputs": [],
   "source": []
  }
 ],
 "metadata": {
  "kernelspec": {
   "display_name": "Python 3 (ipykernel)",
   "language": "python",
   "name": "python3"
  },
  "language_info": {
   "codemirror_mode": {
    "name": "ipython",
    "version": 3
   },
   "file_extension": ".py",
   "mimetype": "text/x-python",
   "name": "python",
   "nbconvert_exporter": "python",
   "pygments_lexer": "ipython3",
   "version": "3.13.0"
  }
 },
 "nbformat": 4,
 "nbformat_minor": 5
}
