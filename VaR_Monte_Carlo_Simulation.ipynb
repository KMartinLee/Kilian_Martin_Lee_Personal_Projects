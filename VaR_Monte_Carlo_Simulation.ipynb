{
 "cells": [
  {
   "cell_type": "code",
   "execution_count": 2,
   "id": "1f6ec1fb-bcdb-450c-b116-c26527e96b23",
   "metadata": {},
   "outputs": [],
   "source": [
    "import numpy as np\n",
    "import pandas as pd \n",
    "import datetime as dt \n",
    "import yfinance as yf\n",
    "import matplotlib.pyplot as plt\n",
    "from scipy.stats import norm"
   ]
  },
  {
   "cell_type": "code",
   "execution_count": 3,
   "id": "cc7be722-2515-440f-993c-c6b6f0aacc26",
   "metadata": {},
   "outputs": [],
   "source": [
    "years = 15\n",
    "\n",
    "endDate = dt.datetime.now()\n",
    "startDate = endDate - dt.timedelta(days = 365 * years)\n"
   ]
  },
  {
   "cell_type": "code",
   "execution_count": 4,
   "id": "10927e86-e303-41fc-9a0b-dc9d94ebb397",
   "metadata": {},
   "outputs": [],
   "source": [
    "tickers = ['SPY', 'BND', 'GLD', 'QQQ', 'VTI']"
   ]
  },
  {
   "cell_type": "code",
   "execution_count": 10,
   "id": "da6cd379-c615-4b05-8f8d-81f42caf0379",
   "metadata": {},
   "outputs": [
    {
     "name": "stderr",
     "output_type": "stream",
     "text": [
      "[*********************100%***********************]  1 of 1 completed\n",
      "[*********************100%***********************]  1 of 1 completed\n",
      "[*********************100%***********************]  1 of 1 completed\n",
      "[*********************100%***********************]  1 of 1 completed\n",
      "[*********************100%***********************]  1 of 1 completed"
     ]
    },
    {
     "name": "stdout",
     "output_type": "stream",
     "text": [
      "                   SPY        BND         GLD         QQQ         VTI\n",
      "Date                                                                 \n",
      "2010-03-08   86.739983  51.822254  109.879997   40.642269   44.442287\n",
      "2010-03-09   86.884201  51.854912  109.720001   40.869377   44.533867\n",
      "2010-03-10   87.271362  51.815727  108.470001   41.201298   44.770519\n",
      "2010-03-11   87.635681  51.809170  108.599998   41.358509   44.938457\n",
      "2010-03-12   87.643318  51.828800  107.949997   41.367260   44.938457\n",
      "...                ...        ...         ...         ...         ...\n",
      "2025-02-24  597.210022  72.870003  272.209991  519.869995  294.410004\n",
      "2025-02-25  594.239990  73.330002  268.619995  513.320007  292.950012\n",
      "2025-02-26  594.539978  73.440002  269.029999  514.559998  293.049988\n",
      "2025-02-27  585.049988  73.349998  264.929993  500.269989  288.510010\n",
      "2025-02-28  594.179993  73.660004  263.269989  508.170013  292.959991\n",
      "\n",
      "[3770 rows x 5 columns]\n"
     ]
    },
    {
     "name": "stderr",
     "output_type": "stream",
     "text": [
      "\n"
     ]
    }
   ],
   "source": [
    "adj_close_df = pd.DataFrame()\n",
    "\n",
    "for ticker in tickers:\n",
    "    data = yf.download(ticker, start = startDate, end = endDate, auto_adjust= False)\n",
    "    adj_close_df[ticker] = data[\"Adj Close\"]\n",
    "print(adj_close_df)"
   ]
  },
  {
   "cell_type": "markdown",
   "id": "cc382887-72c9-42d2-854c-c8c2526a4cf1",
   "metadata": {},
   "source": [
    "Calculate the daily log returns and drop na"
   ]
  },
  {
   "cell_type": "code",
   "execution_count": 11,
   "id": "a366ab33-81d0-4bf7-892d-fac082c19976",
   "metadata": {},
   "outputs": [
    {
     "name": "stdout",
     "output_type": "stream",
     "text": [
      "                 SPY       BND       GLD       QQQ       VTI\n",
      "Date                                                        \n",
      "2010-03-09  0.001661  0.000630 -0.001457  0.005572  0.002059\n",
      "2010-03-10  0.004446 -0.000756 -0.011458  0.008089  0.005300\n",
      "2010-03-11  0.004166 -0.000127  0.001198  0.003808  0.003744\n",
      "2010-03-12  0.000087  0.000379 -0.006003  0.000212  0.000000\n",
      "2010-03-15  0.000259  0.001385  0.003791 -0.002537 -0.000340\n",
      "...              ...       ...       ...       ...       ...\n",
      "2025-02-24 -0.004561  0.001373  0.005415 -0.011875 -0.005116\n",
      "2025-02-25 -0.004986  0.006293 -0.013276 -0.012679 -0.004971\n",
      "2025-02-26  0.000505  0.001499  0.001525  0.002413  0.000341\n",
      "2025-02-27 -0.016091 -0.001226 -0.015357 -0.028164 -0.015613\n",
      "2025-02-28  0.015485  0.004217 -0.006286  0.015668  0.015306\n",
      "\n",
      "[3769 rows x 5 columns]\n"
     ]
    }
   ],
   "source": [
    "log_returns = np.log(adj_close_df / adj_close_df.shift(1))\n",
    "log_returns = log_returns.dropna()\n",
    "print(log_returns)"
   ]
  },
  {
   "cell_type": "markdown",
   "id": "60410d53-3a70-4c82-9bea-e37cd9ce64f1",
   "metadata": {},
   "source": [
    "Create a function that calculate Exp return (We do assume that futur returns are expected to be as the past returns --> not the most accurate are reliable)"
   ]
  },
  {
   "cell_type": "code",
   "execution_count": 12,
   "id": "2904f9f2-888e-48af-b608-8a1d3947d077",
   "metadata": {},
   "outputs": [],
   "source": [
    "def expected_return(weights, log_returns):\n",
    "    return np.sum(log_returns.mean()*weights)"
   ]
  },
  {
   "cell_type": "code",
   "execution_count": 13,
   "id": "f3baa04a-64d2-45b6-a82c-805a5969658c",
   "metadata": {},
   "outputs": [],
   "source": [
    "def standard_dev(weights, cov_matrix):\n",
    "    variance = weights.T @ cov_matrix @ weights\n",
    "    return np.sqrt(variance)"
   ]
  },
  {
   "cell_type": "markdown",
   "id": "fa7d2457-d988-4f44-8172-9d677939b97a",
   "metadata": {},
   "source": [
    "Create the Cov_matrix for all the securities"
   ]
  },
  {
   "cell_type": "code",
   "execution_count": 34,
   "id": "f2327e3c-bb55-4744-af05-e84ee5b19d8d",
   "metadata": {},
   "outputs": [],
   "source": [
    "cov_matrix = log_returns.cov()\n"
   ]
  },
  {
   "cell_type": "markdown",
   "id": "f9abc80f-2d44-4e1b-80b0-63e4b6dff46a",
   "metadata": {},
   "source": [
    "create an equally weighted PF"
   ]
  },
  {
   "cell_type": "code",
   "execution_count": 20,
   "id": "6e617551-5a39-4041-88d6-d984227da775",
   "metadata": {},
   "outputs": [],
   "source": [
    "portfolio_value = 1000000\n",
    "\n",
    "weights = np.array([1/len(tickers)]*len(tickers))\n",
    "\n",
    "portfolio_expected_return = expected_return(weights, log_returns)\n",
    "\n",
    "portfolio_std_dev = standard_dev(weights, cov_matrix)"
   ]
  },
  {
   "cell_type": "markdown",
   "id": "65ffe443-bf57-4014-a203-7f79c607ac6f",
   "metadata": {},
   "source": [
    "Creation of a function that gives a random Z-score based on normal distribution"
   ]
  },
  {
   "cell_type": "code",
   "execution_count": 21,
   "id": "7212f293-c51a-423e-b11f-a5cc26d6799b",
   "metadata": {},
   "outputs": [],
   "source": [
    "def random_z_score():\n",
    "    return np.random.normal(0,1)"
   ]
  },
  {
   "cell_type": "markdown",
   "id": "8223cf43-99ef-4156-a7f3-9f27509a1acf",
   "metadata": {},
   "source": [
    "Create a function to calculate scenario GainLoss"
   ]
  },
  {
   "cell_type": "code",
   "execution_count": 22,
   "id": "2ee6346e-3c33-418b-9a15-620ad8ad53b6",
   "metadata": {},
   "outputs": [],
   "source": [
    "days = 5\n",
    "\n",
    "def scenario_gain_loss(portfolio_value, portfolio_std_dev, z_score, days):\n",
    "    return portfolio_value * portfolio_expected_return * days + portfolio_value * portfolio_std_dev * z_score * np.sqrt(days)"
   ]
  },
  {
   "cell_type": "markdown",
   "id": "bc61218b-29cb-4625-9050-261e90e3e85d",
   "metadata": {},
   "source": [
    "Run 10000 Simulations"
   ]
  },
  {
   "cell_type": "code",
   "execution_count": 23,
   "id": "864208f4-30c0-4f85-b4e9-6389218af012",
   "metadata": {},
   "outputs": [],
   "source": [
    "simulations = 10000\n",
    "scenarioReturn = []\n",
    "\n",
    "for i in range (simulations):\n",
    "    z_score = random_z_score()\n",
    "    scenarioReturn.append(scenario_gain_loss(portfolio_value, portfolio_std_dev, z_score, days))"
   ]
  },
  {
   "cell_type": "code",
   "execution_count": 28,
   "id": "0b8bdf01-34cc-4c3e-8627-eec52f007af2",
   "metadata": {},
   "outputs": [
    {
     "name": "stdout",
     "output_type": "stream",
     "text": [
      "24593.618826311755\n"
     ]
    }
   ],
   "source": [
    "confidence_interval = 0.95\n",
    "VaR = -np.percentile(scenarioReturn, 100 * (1 - confidence_interval))\n",
    "print(VaR)"
   ]
  },
  {
   "cell_type": "markdown",
   "id": "ff66f24d-191c-479c-ae5b-f081c7ec1be8",
   "metadata": {},
   "source": [
    "Plot the results"
   ]
  },
  {
   "cell_type": "code",
   "execution_count": 33,
   "id": "17c3d268-015b-4219-8356-bcbd4f1b2d09",
   "metadata": {},
   "outputs": [
    {
     "data": {
      "text/plain": [
       "<function matplotlib.pyplot.show(close=None, block=None)>"
      ]
     },
     "execution_count": 33,
     "metadata": {},
     "output_type": "execute_result"
    },
    {
     "data": {
      "image/png": "[encoded data removed]",
      "text/plain": [
       "<Figure size 640x480 with 1 Axes>"
      ]
     },
     "metadata": {},
     "output_type": "display_data"
    }
   ],
   "source": [
    "plt.hist(scenarioReturn, bins = 50, density = True)\n",
    "plt.xlabel('Scenario Gain/Loss ($)')\n",
    "plt.ylabel('Frequency')\n",
    "plt.title(f'Distribution of Portfolio Gain/loss Over {days} Days')\n",
    "plt.axvline(-VaR, color = 'r', linestyle = 'dashed', linewidth = 2, label = f'VaR at {confidence_interval: .0%} confidence level')\n",
    "plt.legend\n",
    "plt.show"
   ]
  },
  {
   "cell_type": "code",
   "execution_count": null,
   "id": "99ebddbb-2e79-4313-b202-da0f62a96c92",
   "metadata": {},
   "outputs": [],
   "source": []
  }
 ],
 "metadata": {
  "kernelspec": {
   "display_name": "Python 3 (ipykernel)",
   "language": "python",
   "name": "python3"
  },
  "language_info": {
   "codemirror_mode": {
    "name": "ipython",
    "version": 3
   },
   "file_extension": ".py",
   "mimetype": "text/x-python",
   "name": "python",
   "nbconvert_exporter": "python",
   "pygments_lexer": "ipython3",
   "version": "3.13.0"
  }
 },
 "nbformat": 4,
 "nbformat_minor": 5
}
