{
 "cells": [
  {
   "cell_type": "code",
   "execution_count": null,
   "id": "1f6ec1fb-bcdb-450c-b116-c26527e96b23",
   "metadata": {},
   "outputs": [
    {
     "ename": "",
     "evalue": "",
     "output_type": "error",
     "traceback": [
      "\u001b[1;31mRunning cells with 'Python 3.13.7' requires the ipykernel package.\n",
      "\u001b[1;31m<a href='command:jupyter.createPythonEnvAndSelectController'>Create a Python Environment</a> with the required packages.\n",
      "\u001b[1;31mOr install 'ipykernel' using the command: '/opt/homebrew/bin/python3 -m pip install ipykernel -U --user --force-reinstall'"
     ]
    }
   ],
   "source": [
    "import numpy as np\n",
    "import pandas as pd \n",
    "import datetime as dt \n",
    "import yfinance as yf\n",
    "import matplotlib.pyplot as plt\n",
    "from scipy.stats import norm"
   ]
  },
  {
   "cell_type": "code",
   "execution_count": null,
   "id": "cc7be722-2515-440f-993c-c6b6f0aacc26",
   "metadata": {},
   "outputs": [],
   "source": [
    "years = 15\n",
    "\n",
    "endDate = dt.datetime.now()\n",
    "startDate = endDate - dt.timedelta(days = 365 * years)\n"
   ]
  },
  {
   "cell_type": "code",
   "execution_count": null,
   "id": "10927e86-e303-41fc-9a0b-dc9d94ebb397",
   "metadata": {},
   "outputs": [],
   "source": [
    "tickers = ['SPY', 'BND', 'GLD', 'QQQ', 'VTI']"
   ]
  },
  {
   "cell_type": "code",
   "execution_count": null,
   "id": "da6cd379-c615-4b05-8f8d-81f42caf0379",
   "metadata": {},
   "outputs": [],
   "source": [
    "adj_close_df = pd.DataFrame()\n",
    "\n",
    "for ticker in tickers:\n",
    "    data = yf.download(ticker, start = startDate, end = endDate, auto_adjust= False)\n",
    "    adj_close_df[ticker] = data[\"Adj Close\"]\n",
    "print(adj_close_df)"
   ]
  },
  {
   "cell_type": "markdown",
   "id": "cc382887-72c9-42d2-854c-c8c2526a4cf1",
   "metadata": {},
   "source": [
    "Calculate the daily log returns and drop na"
   ]
  },
  {
   "cell_type": "code",
   "execution_count": null,
   "id": "a366ab33-81d0-4bf7-892d-fac082c19976",
   "metadata": {},
   "outputs": [],
   "source": [
    "log_returns = np.log(adj_close_df / adj_close_df.shift(1))\n",
    "log_returns = log_returns.dropna()\n",
    "print(log_returns)"
   ]
  },
  {
   "cell_type": "markdown",
   "id": "60410d53-3a70-4c82-9bea-e37cd9ce64f1",
   "metadata": {},
   "source": [
    "Create a function that calculate Exp return (We do assume that futur returns are expected to be as the past returns --> not the most accurate are reliable)"
   ]
  },
  {
   "cell_type": "code",
   "execution_count": null,
   "id": "2904f9f2-888e-48af-b608-8a1d3947d077",
   "metadata": {},
   "outputs": [],
   "source": [
    "def expected_return(weights, log_returns):\n",
    "    return np.sum(log_returns.mean()*weights)"
   ]
  },
  {
   "cell_type": "code",
   "execution_count": null,
   "id": "f3baa04a-64d2-45b6-a82c-805a5969658c",
   "metadata": {},
   "outputs": [],
   "source": [
    "def standard_dev(weights, cov_matrix):\n",
    "    variance = weights.T @ cov_matrix @ weights\n",
    "    return np.sqrt(variance)"
   ]
  },
  {
   "cell_type": "markdown",
   "id": "fa7d2457-d988-4f44-8172-9d677939b97a",
   "metadata": {},
   "source": [
    "Create the Cov_matrix for all the securities"
   ]
  },
  {
   "cell_type": "code",
   "execution_count": null,
   "id": "f2327e3c-bb55-4744-af05-e84ee5b19d8d",
   "metadata": {},
   "outputs": [],
   "source": [
    "cov_matrix = log_returns.cov()\n"
   ]
  },
  {
   "cell_type": "markdown",
   "id": "f9abc80f-2d44-4e1b-80b0-63e4b6dff46a",
   "metadata": {},
   "source": [
    "create an equally weighted PF"
   ]
  },
  {
   "cell_type": "code",
   "execution_count": null,
   "id": "6e617551-5a39-4041-88d6-d984227da775",
   "metadata": {},
   "outputs": [],
   "source": [
    "portfolio_value = 1000000\n",
    "\n",
    "weights = np.array([1/len(tickers)]*len(tickers))\n",
    "\n",
    "portfolio_expected_return = expected_return(weights, log_returns)\n",
    "\n",
    "portfolio_std_dev = standard_dev(weights, cov_matrix)"
   ]
  },
  {
   "cell_type": "markdown",
   "id": "65ffe443-bf57-4014-a203-7f79c607ac6f",
   "metadata": {},
   "source": [
    "Creation of a function that gives a random Z-score based on normal distribution"
   ]
  },
  {
   "cell_type": "code",
   "execution_count": null,
   "id": "7212f293-c51a-423e-b11f-a5cc26d6799b",
   "metadata": {},
   "outputs": [],
   "source": [
    "def random_z_score():\n",
    "    return np.random.normal(0,1)"
   ]
  },
  {
   "cell_type": "markdown",
   "id": "8223cf43-99ef-4156-a7f3-9f27509a1acf",
   "metadata": {},
   "source": [
    "Create a function to calculate scenario GainLoss"
   ]
  },
  {
   "cell_type": "code",
   "execution_count": null,
   "id": "2ee6346e-3c33-418b-9a15-620ad8ad53b6",
   "metadata": {},
   "outputs": [],
   "source": [
    "days = 5\n",
    "\n",
    "def scenario_gain_loss(portfolio_value, portfolio_std_dev, z_score, days):\n",
    "    return portfolio_value * portfolio_expected_return * days + portfolio_value * portfolio_std_dev * z_score * np.sqrt(days)"
   ]
  },
  {
   "cell_type": "markdown",
   "id": "bc61218b-29cb-4625-9050-261e90e3e85d",
   "metadata": {},
   "source": [
    "Run 10000 Simulations"
   ]
  },
  {
   "cell_type": "code",
   "execution_count": null,
   "id": "864208f4-30c0-4f85-b4e9-6389218af012",
   "metadata": {},
   "outputs": [],
   "source": [
    "simulations = 10000\n",
    "scenarioReturn = []\n",
    "\n",
    "for i in range (simulations):\n",
    "    z_score = random_z_score()\n",
    "    scenarioReturn.append(scenario_gain_loss(portfolio_value, portfolio_std_dev, z_score, days))"
   ]
  },
  {
   "cell_type": "code",
   "execution_count": null,
   "id": "0b8bdf01-34cc-4c3e-8627-eec52f007af2",
   "metadata": {},
   "outputs": [],
   "source": [
    "confidence_interval = 0.95\n",
    "VaR = -np.percentile(scenarioReturn, 100 * (1 - confidence_interval))\n",
    "print(VaR)"
   ]
  },
  {
   "cell_type": "markdown",
   "id": "ff66f24d-191c-479c-ae5b-f081c7ec1be8",
   "metadata": {},
   "source": [
    "Plot the results"
   ]
  },
  {
   "cell_type": "code",
   "execution_count": null,
   "id": "17c3d268-015b-4219-8356-bcbd4f1b2d09",
   "metadata": {},
   "outputs": [],
   "source": [
    "plt.hist(scenarioReturn, bins = 50, density = True)\n",
    "plt.xlabel('Scenario Gain/Loss ($)')\n",
    "plt.ylabel('Frequency')\n",
    "plt.title(f'Distribution of Portfolio Gain/loss Over {days} Days')\n",
    "plt.axvline(-VaR, color = 'r', linestyle = 'dashed', linewidth = 2, label = f'VaR at {confidence_interval: .0%} confidence level')\n",
    "plt.legend\n",
    "plt.show"
   ]
  },
  {
   "cell_type": "code",
   "execution_count": null,
   "id": "99ebddbb-2e79-4313-b202-da0f62a96c92",
   "metadata": {},
   "outputs": [],
   "source": []
  }
 ],
 "metadata": {
  "kernelspec": {
   "display_name": "Python 3",
   "language": "python",
   "name": "python3"
  },
  "language_info": {
   "codemirror_mode": {
    "name": "ipython",
    "version": 3
   },
   "file_extension": ".py",
   "mimetype": "text/x-python",
   "name": "python",
   "nbconvert_exporter": "python",
   "pygments_lexer": "ipython3",
   "version": "3.13.7"
  }
 },
 "nbformat": 4,
 "nbformat_minor": 5
}
